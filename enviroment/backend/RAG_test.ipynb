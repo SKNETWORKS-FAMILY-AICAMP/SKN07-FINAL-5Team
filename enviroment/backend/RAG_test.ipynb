{
 "cells": [
  {
   "cell_type": "markdown",
   "metadata": {},
   "source": [
    "# 환경 load & 라이브러리 임포트"
   ]
  },
  {
   "cell_type": "code",
   "execution_count": 14,
   "metadata": {},
   "outputs": [],
   "source": [
    "import os\n",
    "import langchain_chroma\n",
    "import openai\n",
    "from openai import OpenAI\n",
    "import chromadb\n",
    "import fitz  # PDF에서 텍스트 추출\n",
    "from dotenv import load_dotenv\n",
    "from fastapi import FastAPI, UploadFile, File\n",
    "from sqlalchemy import create_engine, text\n",
    "from sqlalchemy.ext.declarative import declarative_base\n",
    "import pandas as pd\n",
    "import psycopg2\n",
    "import torch\n",
    "from sklearn.metrics.pairwise import cosine_similarity\n",
    "from langchain_text_splitters import RecursiveCharacterTextSplitter\n",
    "\n",
    "\n",
    "# .env 파일 로드\n",
    "load_dotenv()\n",
    "OPENAI_API_KEY = os.getenv(\"OPENAI_API_KEY\")"
   ]
  },
  {
   "cell_type": "code",
   "execution_count": 2,
   "metadata": {},
   "outputs": [],
   "source": [
    "POST_DB_HOST = os.getenv(\"POST_DB_HOST\")\n",
    "POST_DB_NAME = os.getenv(\"POST_DB_NAME\")\n",
    "POST_DB_USER = os.getenv(\"POST_DB_USER\")\n",
    "POST_DB_PASSWD = os.getenv(\"POST_DB_PASSWD\")\n",
    "POST_DB_PORT = os.getenv(\"POST_DB_PORT\")"
   ]
  },
  {
   "cell_type": "code",
   "execution_count": 3,
   "metadata": {},
   "outputs": [],
   "source": [
    "# PostgreSQL 연결 엔진 생성\n",
    "post_engine = create_engine(f'postgresql://{POST_DB_USER}:{POST_DB_PASSWD}@{POST_DB_HOST}:{POST_DB_PORT}/{POST_DB_NAME}')\n",
    "db = psycopg2.connect(host=POST_DB_HOST, dbname=POST_DB_NAME,user=POST_DB_USER,password=POST_DB_PASSWD,port=POST_DB_PORT)\n",
    "cursor = db.cursor()\n",
    "db.autocommit = False"
   ]
  },
  {
   "cell_type": "markdown",
   "metadata": {},
   "source": [
    "---"
   ]
  },
  {
   "cell_type": "markdown",
   "metadata": {},
   "source": [
    "## data 불러오기"
   ]
  },
  {
   "cell_type": "code",
   "execution_count": 4,
   "metadata": {},
   "outputs": [],
   "source": [
    "sql = \"\"\"\n",
    "        select rec_idx, company_nm, jd_text from saramin_recruit_detail\n",
    "\"\"\"\n",
    "\n",
    "cursor.execute(sql)"
   ]
  },
  {
   "cell_type": "code",
   "execution_count": 5,
   "metadata": {},
   "outputs": [],
   "source": [
    "jd_text_list = cursor.fetchall()"
   ]
  },
  {
   "cell_type": "code",
   "execution_count": 6,
   "metadata": {},
   "outputs": [],
   "source": [
    "db.commit()\n",
    "cursor.close()\n",
    "db.close()"
   ]
  },
  {
   "cell_type": "code",
   "execution_count": 7,
   "metadata": {},
   "outputs": [],
   "source": [
    "# 텍스트 임베딩 함수\n",
    "def get_embedding(text, model=\"text-embedding-3-large\"):\n",
    "    response = openai.embeddings.create(\n",
    "        text = resume_text.replace(\"\\n\", \"\").strip(),\n",
    "        model=model,\n",
    "        input=text\n",
    "    )\n",
    "    return response.data[0].embedding"
   ]
  },
  {
   "cell_type": "code",
   "execution_count": 1,
   "metadata": {},
   "outputs": [
    {
     "ename": "NameError",
     "evalue": "name 'jd_text_list' is not defined",
     "output_type": "error",
     "traceback": [
      "\u001b[0;31m---------------------------------------------------------------------------\u001b[0m",
      "\u001b[0;31mNameError\u001b[0m                                 Traceback (most recent call last)",
      "Cell \u001b[0;32mIn[1], line 1\u001b[0m\n\u001b[0;32m----> 1\u001b[0m \u001b[43mjd_text_list\u001b[49m\n",
      "\u001b[0;31mNameError\u001b[0m: name 'jd_text_list' is not defined"
     ]
    }
   ],
   "source": [
    "jd_text_list"
   ]
  },
  {
   "cell_type": "code",
   "execution_count": 9,
   "metadata": {},
   "outputs": [
    {
     "data": {
      "text/plain": [
       "'\\n채용공고 상세\\n[코스닥 상장사] 경영기획본부 신입2007년 12월 11일에 설립된 그 외 기타 의료용 기기 제조업업종의 피부미용 의료기기 제조,중개,무역사업을 하는 코스닥,중소기업,주식회사,외부감사법인,병역특례 인증업체,수출입 기업 입니다.모집부문 및 상세내용모집부문상세내용공통 자격요건ㆍ학력 : 대졸 이상 (4년)ㆍ학점 : 3.8 이상경영기획본부전략기획팀 1명주요업무담당업무ㆍ지원직무주요 회의체 운영 및 경영진 지원 (회의 안건 준비, 회의록 작성 등)조직별 성과 데이터 집계 및 분석, 경영진 보고사업 전략 및 중장기 계획 수립 지원기타 경영지원 및 프로젝트성 업무 수행지원자격데이터 분석 및 보고서 작성 능력 (Excel, PowerPoint 활용)커뮤니케이션 및 조율 역량 보유컨설팅 및 전략 기획 관련 경험 우대\\nㆍ기타 필수 사항\\n우대사항✅ 전략기획, 경영관리 등 유관 업무 경험 보유자✅ 데이터 분석 및 리포팅 역량 우수자 (BI 툴, SQL 활용 가능자 우대)✅ 사업 전략 및 중장기 계획 수립 경험자✅ 주요 프로젝트 운영 경험 보유자근무조건ㆍ근무형태:정규직(수습기간)-3개월ㆍ근무일시:주 5일(월~금)ㆍ근무지역:(16827) 경기 용인시 수지구 신수로 767 분당수지 U-TOWER 19층(동천동) - 신분당선 동천 에서 200m 이내전형절차 서류전형 1차면접 2차면접(경우에 따라 생략 가능) 최종합격접수기간 및 방법ㆍ:2025년 3월 14일 (금) 14시~ 채용시ㆍ접수방법:사람인 입사지원ㆍ이력서양식:사람인 온라인 이력서ㆍ제출서류:유의사항ㆍ학력, 성별, 연령을 보지않는 블라인드 채용입니다. ㆍ입사지원 서류에 허위사실이 발견될 경우, 채용확정 이후라도 채용이 취소될 수 있습니다.ㆍ모집분야별로 마감일이 상이할 수 있으니 유의하시길 바랍니다.\\n'"
      ]
     },
     "execution_count": 9,
     "metadata": {},
     "output_type": "execute_result"
    }
   ],
   "source": [
    "jd_text_list[0][2]"
   ]
  },
  {
   "cell_type": "code",
   "execution_count": 10,
   "metadata": {},
   "outputs": [],
   "source": [
    "df_rec = pd.DataFrame(jd_text_list, columns=['rec_id', 'company_name', 'description'])"
   ]
  },
  {
   "cell_type": "code",
   "execution_count": 11,
   "metadata": {},
   "outputs": [
    {
     "data": {
      "text/html": [
       "<div>\n",
       "<style scoped>\n",
       "    .dataframe tbody tr th:only-of-type {\n",
       "        vertical-align: middle;\n",
       "    }\n",
       "\n",
       "    .dataframe tbody tr th {\n",
       "        vertical-align: top;\n",
       "    }\n",
       "\n",
       "    .dataframe thead th {\n",
       "        text-align: right;\n",
       "    }\n",
       "</style>\n",
       "<table border=\"1\" class=\"dataframe\">\n",
       "  <thead>\n",
       "    <tr style=\"text-align: right;\">\n",
       "      <th></th>\n",
       "      <th>rec_id</th>\n",
       "      <th>company_name</th>\n",
       "      <th>description</th>\n",
       "    </tr>\n",
       "  </thead>\n",
       "  <tbody>\n",
       "    <tr>\n",
       "      <th>0</th>\n",
       "      <td>50245530</td>\n",
       "      <td>(주)하이로닉</td>\n",
       "      <td>\\n채용공고 상세\\n[코스닥 상장사] 경영기획본부 신입2007년 12월 11일에 설...</td>\n",
       "    </tr>\n",
       "    <tr>\n",
       "      <th>1</th>\n",
       "      <td>50275785</td>\n",
       "      <td>세일즈웍스코리아(유)</td>\n",
       "      <td>\\n채용공고 상세\\n</td>\n",
       "    </tr>\n",
       "    <tr>\n",
       "      <th>2</th>\n",
       "      <td>50275903</td>\n",
       "      <td>엔에이치엔(주)</td>\n",
       "      <td>\\n채용공고 상세\\nNHN  Dooray!올인원 협업 도구 두레이와 전자결재/게시판...</td>\n",
       "    </tr>\n",
       "    <tr>\n",
       "      <th>3</th>\n",
       "      <td>50254512</td>\n",
       "      <td>(주)글로벌스탠다드테크놀로지</td>\n",
       "      <td>\\n채용공고 상세\\n모집부문 및 자격요건\\n 모집부문\\n 경력사항\\n 담당업무\\n자...</td>\n",
       "    </tr>\n",
       "    <tr>\n",
       "      <th>4</th>\n",
       "      <td>49874934</td>\n",
       "      <td>(주)에이치비투자그룹</td>\n",
       "      <td>\\n채용공고 상세\\n</td>\n",
       "    </tr>\n",
       "    <tr>\n",
       "      <th>...</th>\n",
       "      <td>...</td>\n",
       "      <td>...</td>\n",
       "      <td>...</td>\n",
       "    </tr>\n",
       "    <tr>\n",
       "      <th>13848</th>\n",
       "      <td>50185544</td>\n",
       "      <td>(주)핀다</td>\n",
       "      <td>\\n채용공고 상세\\n 구분\\n 상세내용\\nBusiness\\nPO\\n(비교대출)\\n(...</td>\n",
       "    </tr>\n",
       "    <tr>\n",
       "      <th>13849</th>\n",
       "      <td>50170082</td>\n",
       "      <td>오픈헬스케어(주)</td>\n",
       "      <td>\\n채용공고 상세\\n\\t\\n\\t 오픈헬스케어(주) ㅣ 전략기획본부 투자팀 - 경력\\...</td>\n",
       "    </tr>\n",
       "    <tr>\n",
       "      <th>13850</th>\n",
       "      <td>50090229</td>\n",
       "      <td>(주)두나미스자산운용</td>\n",
       "      <td>\\n채용공고 상세\\n \\n (주)두나미스자산운용\\n \\n펀드마케팅 \\n경력3년이상(...</td>\n",
       "    </tr>\n",
       "    <tr>\n",
       "      <th>13851</th>\n",
       "      <td>50109575</td>\n",
       "      <td>(주)에코앤드림</td>\n",
       "      <td>\\n채용공고 상세\\n재무기획(FP&amp;A) 담당자 채용\\n# 모집부문 \\n모집부문\\n담...</td>\n",
       "    </tr>\n",
       "    <tr>\n",
       "      <th>13852</th>\n",
       "      <td>50136151</td>\n",
       "      <td>(사)월드쉐어</td>\n",
       "      <td>\\n채용공고 상세\\n모집상세\\n 모집부문\\n 담당업무\\n 자격요건 및 우대사항\\n ...</td>\n",
       "    </tr>\n",
       "  </tbody>\n",
       "</table>\n",
       "<p>13853 rows × 3 columns</p>\n",
       "</div>"
      ],
      "text/plain": [
       "         rec_id     company_name  \\\n",
       "0      50245530          (주)하이로닉   \n",
       "1      50275785      세일즈웍스코리아(유)   \n",
       "2      50275903         엔에이치엔(주)   \n",
       "3      50254512  (주)글로벌스탠다드테크놀로지   \n",
       "4      49874934      (주)에이치비투자그룹   \n",
       "...         ...              ...   \n",
       "13848  50185544            (주)핀다   \n",
       "13849  50170082        오픈헬스케어(주)   \n",
       "13850  50090229      (주)두나미스자산운용   \n",
       "13851  50109575         (주)에코앤드림   \n",
       "13852  50136151          (사)월드쉐어   \n",
       "\n",
       "                                             description  \n",
       "0      \\n채용공고 상세\\n[코스닥 상장사] 경영기획본부 신입2007년 12월 11일에 설...  \n",
       "1                                            \\n채용공고 상세\\n  \n",
       "2      \\n채용공고 상세\\nNHN  Dooray!올인원 협업 도구 두레이와 전자결재/게시판...  \n",
       "3      \\n채용공고 상세\\n모집부문 및 자격요건\\n 모집부문\\n 경력사항\\n 담당업무\\n자...  \n",
       "4                                            \\n채용공고 상세\\n  \n",
       "...                                                  ...  \n",
       "13848  \\n채용공고 상세\\n 구분\\n 상세내용\\nBusiness\\nPO\\n(비교대출)\\n(...  \n",
       "13849  \\n채용공고 상세\\n\\t\\n\\t 오픈헬스케어(주) ㅣ 전략기획본부 투자팀 - 경력\\...  \n",
       "13850  \\n채용공고 상세\\n \\n (주)두나미스자산운용\\n \\n펀드마케팅 \\n경력3년이상(...  \n",
       "13851  \\n채용공고 상세\\n재무기획(FP&A) 담당자 채용\\n# 모집부문 \\n모집부문\\n담...  \n",
       "13852  \\n채용공고 상세\\n모집상세\\n 모집부문\\n 담당업무\\n 자격요건 및 우대사항\\n ...  \n",
       "\n",
       "[13853 rows x 3 columns]"
      ]
     },
     "execution_count": 11,
     "metadata": {},
     "output_type": "execute_result"
    }
   ],
   "source": [
    "df_rec"
   ]
  },
  {
   "cell_type": "markdown",
   "metadata": {},
   "source": [
    "---"
   ]
  },
  {
   "cell_type": "markdown",
   "metadata": {},
   "source": [
    "# chroma db 적재 전 chunking"
   ]
  },
  {
   "cell_type": "code",
   "execution_count": 12,
   "metadata": {},
   "outputs": [],
   "source": [
    "from chromadb.utils.embedding_functions import OpenAIEmbeddingFunction\n",
    "from langchain.text_splitter import RecursiveCharacterTextSplitter"
   ]
  },
  {
   "cell_type": "code",
   "execution_count": 15,
   "metadata": {},
   "outputs": [],
   "source": [
    "openai_client = OpenAI()\n",
    "def get_embedding(text, model=\"text-embedding-3-small\"):\n",
    "    text = text.replace(\"\\n\", \" \")\n",
    "    return openai_client.embeddings.create(input=[text], model=model).data[0].embedding"
   ]
  },
  {
   "cell_type": "code",
   "execution_count": 16,
   "metadata": {},
   "outputs": [],
   "source": [
    "# 토큰나이징\n",
    "text_splitter = RecursiveCharacterTextSplitter(\n",
    "    chunk_size=1000,      # 약 1000 토큰(약 300~400 단어)\n",
    "    chunk_overlap=200,    # 일부 문맥 보존\n",
    "    separators=[\"\\n\\n\", \"\\n\", \".\", \" \", \"\"]\n",
    ")\n",
    "\n",
    "def split_texts(row):\n",
    "    chunks = text_splitter.split_text(row[\"description\"])\n",
    "    return [(row[\"rec_id\"], row[\"company_name\"], chunk) for chunk in chunks]"
   ]
  },
  {
   "cell_type": "markdown",
   "metadata": {},
   "source": [
    "---"
   ]
  },
  {
   "cell_type": "markdown",
   "metadata": {},
   "source": [
    "# 다시 chromadb 유사도 검색 진행 코드"
   ]
  },
  {
   "cell_type": "code",
   "execution_count": 17,
   "metadata": {},
   "outputs": [
    {
     "data": {
      "text/html": [
       "<div>\n",
       "<style scoped>\n",
       "    .dataframe tbody tr th:only-of-type {\n",
       "        vertical-align: middle;\n",
       "    }\n",
       "\n",
       "    .dataframe tbody tr th {\n",
       "        vertical-align: top;\n",
       "    }\n",
       "\n",
       "    .dataframe thead th {\n",
       "        text-align: right;\n",
       "    }\n",
       "</style>\n",
       "<table border=\"1\" class=\"dataframe\">\n",
       "  <thead>\n",
       "    <tr style=\"text-align: right;\">\n",
       "      <th></th>\n",
       "      <th>rec_id</th>\n",
       "      <th>company_name</th>\n",
       "      <th>description</th>\n",
       "    </tr>\n",
       "  </thead>\n",
       "  <tbody>\n",
       "    <tr>\n",
       "      <th>0</th>\n",
       "      <td>50245530</td>\n",
       "      <td>(주)하이로닉</td>\n",
       "      <td>\\n채용공고 상세\\n[코스닥 상장사] 경영기획본부 신입2007년 12월 11일에 설...</td>\n",
       "    </tr>\n",
       "    <tr>\n",
       "      <th>1</th>\n",
       "      <td>50275785</td>\n",
       "      <td>세일즈웍스코리아(유)</td>\n",
       "      <td>\\n채용공고 상세\\n</td>\n",
       "    </tr>\n",
       "    <tr>\n",
       "      <th>2</th>\n",
       "      <td>50275903</td>\n",
       "      <td>엔에이치엔(주)</td>\n",
       "      <td>\\n채용공고 상세\\nNHN  Dooray!올인원 협업 도구 두레이와 전자결재/게시판...</td>\n",
       "    </tr>\n",
       "    <tr>\n",
       "      <th>3</th>\n",
       "      <td>50254512</td>\n",
       "      <td>(주)글로벌스탠다드테크놀로지</td>\n",
       "      <td>\\n채용공고 상세\\n모집부문 및 자격요건\\n 모집부문\\n 경력사항\\n 담당업무\\n자...</td>\n",
       "    </tr>\n",
       "    <tr>\n",
       "      <th>4</th>\n",
       "      <td>49874934</td>\n",
       "      <td>(주)에이치비투자그룹</td>\n",
       "      <td>\\n채용공고 상세\\n</td>\n",
       "    </tr>\n",
       "    <tr>\n",
       "      <th>...</th>\n",
       "      <td>...</td>\n",
       "      <td>...</td>\n",
       "      <td>...</td>\n",
       "    </tr>\n",
       "    <tr>\n",
       "      <th>13848</th>\n",
       "      <td>50185544</td>\n",
       "      <td>(주)핀다</td>\n",
       "      <td>\\n채용공고 상세\\n 구분\\n 상세내용\\nBusiness\\nPO\\n(비교대출)\\n(...</td>\n",
       "    </tr>\n",
       "    <tr>\n",
       "      <th>13849</th>\n",
       "      <td>50170082</td>\n",
       "      <td>오픈헬스케어(주)</td>\n",
       "      <td>\\n채용공고 상세\\n\\t\\n\\t 오픈헬스케어(주) ㅣ 전략기획본부 투자팀 - 경력\\...</td>\n",
       "    </tr>\n",
       "    <tr>\n",
       "      <th>13850</th>\n",
       "      <td>50090229</td>\n",
       "      <td>(주)두나미스자산운용</td>\n",
       "      <td>\\n채용공고 상세\\n \\n (주)두나미스자산운용\\n \\n펀드마케팅 \\n경력3년이상(...</td>\n",
       "    </tr>\n",
       "    <tr>\n",
       "      <th>13851</th>\n",
       "      <td>50109575</td>\n",
       "      <td>(주)에코앤드림</td>\n",
       "      <td>\\n채용공고 상세\\n재무기획(FP&amp;A) 담당자 채용\\n# 모집부문 \\n모집부문\\n담...</td>\n",
       "    </tr>\n",
       "    <tr>\n",
       "      <th>13852</th>\n",
       "      <td>50136151</td>\n",
       "      <td>(사)월드쉐어</td>\n",
       "      <td>\\n채용공고 상세\\n모집상세\\n 모집부문\\n 담당업무\\n 자격요건 및 우대사항\\n ...</td>\n",
       "    </tr>\n",
       "  </tbody>\n",
       "</table>\n",
       "<p>13853 rows × 3 columns</p>\n",
       "</div>"
      ],
      "text/plain": [
       "         rec_id     company_name  \\\n",
       "0      50245530          (주)하이로닉   \n",
       "1      50275785      세일즈웍스코리아(유)   \n",
       "2      50275903         엔에이치엔(주)   \n",
       "3      50254512  (주)글로벌스탠다드테크놀로지   \n",
       "4      49874934      (주)에이치비투자그룹   \n",
       "...         ...              ...   \n",
       "13848  50185544            (주)핀다   \n",
       "13849  50170082        오픈헬스케어(주)   \n",
       "13850  50090229      (주)두나미스자산운용   \n",
       "13851  50109575         (주)에코앤드림   \n",
       "13852  50136151          (사)월드쉐어   \n",
       "\n",
       "                                             description  \n",
       "0      \\n채용공고 상세\\n[코스닥 상장사] 경영기획본부 신입2007년 12월 11일에 설...  \n",
       "1                                            \\n채용공고 상세\\n  \n",
       "2      \\n채용공고 상세\\nNHN  Dooray!올인원 협업 도구 두레이와 전자결재/게시판...  \n",
       "3      \\n채용공고 상세\\n모집부문 및 자격요건\\n 모집부문\\n 경력사항\\n 담당업무\\n자...  \n",
       "4                                            \\n채용공고 상세\\n  \n",
       "...                                                  ...  \n",
       "13848  \\n채용공고 상세\\n 구분\\n 상세내용\\nBusiness\\nPO\\n(비교대출)\\n(...  \n",
       "13849  \\n채용공고 상세\\n\\t\\n\\t 오픈헬스케어(주) ㅣ 전략기획본부 투자팀 - 경력\\...  \n",
       "13850  \\n채용공고 상세\\n \\n (주)두나미스자산운용\\n \\n펀드마케팅 \\n경력3년이상(...  \n",
       "13851  \\n채용공고 상세\\n재무기획(FP&A) 담당자 채용\\n# 모집부문 \\n모집부문\\n담...  \n",
       "13852  \\n채용공고 상세\\n모집상세\\n 모집부문\\n 담당업무\\n 자격요건 및 우대사항\\n ...  \n",
       "\n",
       "[13853 rows x 3 columns]"
      ]
     },
     "execution_count": 17,
     "metadata": {},
     "output_type": "execute_result"
    }
   ],
   "source": [
    "df_rec"
   ]
  },
  {
   "cell_type": "code",
   "execution_count": 18,
   "metadata": {},
   "outputs": [],
   "source": [
    "def clean_description(text):\n",
    "    if not isinstance(text, str):\n",
    "        return \"\"\n",
    "    return text.replace(\"\\n\", \" \").strip()\n",
    "\n",
    "df_rec[\"description\"] = df_rec[\"description\"].apply(clean_description)"
   ]
  },
  {
   "cell_type": "code",
   "execution_count": 19,
   "metadata": {},
   "outputs": [],
   "source": [
    "df = df_rec[df_rec[\"description\"].apply(lambda x: len(x) > 30)]"
   ]
  },
  {
   "cell_type": "code",
   "execution_count": 20,
   "metadata": {},
   "outputs": [],
   "source": [
    "# rec_id 기준으로 description 통합\n",
    "df = df.groupby(\"rec_id\").agg({\n",
    "    \"company_name\": \"first\",\n",
    "    \"description\": lambda x: \"\\n\".join(x)\n",
    "}).reset_index()"
   ]
  },
  {
   "cell_type": "code",
   "execution_count": null,
   "metadata": {},
   "outputs": [],
   "source": [
    "# ibal split \n",
    "text_splitter = RecursiveCharacterTextSplitter(\n",
    "    chunk_size=1000,\n",
    "    chunk_overlap=200,\n",
    "    separators=[\"\\n\\n\", \"\\n\", \".\", \" \", \"\"]\n",
    ")"
   ]
  },
  {
   "cell_type": "code",
   "execution_count": 22,
   "metadata": {},
   "outputs": [],
   "source": [
    "# chunk 생성\n",
    "chunks = []\n",
    "metas = []\n",
    "\n",
    "for _, row in df.iterrows():\n",
    "    rec_id, company_name, desc = row[\"rec_id\"], row[\"company_name\"], row[\"description\"]\n",
    "    split_texts = text_splitter.split_text(desc)\n",
    "    for i, chunk in enumerate(split_texts):\n",
    "        chunks.append(chunk)\n",
    "        metas.append({\n",
    "            \"rec_id\": str(rec_id),\n",
    "            \"company_name\": company_name,\n",
    "            \"chunk_id\": f\"{rec_id}_{i}\"\n",
    "        })"
   ]
  },
  {
   "cell_type": "code",
   "execution_count": 23,
   "metadata": {},
   "outputs": [],
   "source": [
    "def get_embedding(text, model=\"text-embedding-3-small\"):\n",
    "    return openai_client.embeddings.create(input=[text], model=model).data[0].embedding"
   ]
  },
  {
   "cell_type": "code",
   "execution_count": 24,
   "metadata": {},
   "outputs": [
    {
     "name": "stderr",
     "output_type": "stream",
     "text": [
      "100%|██████████| 17641/17641 [2:16:36<00:00,  2.15it/s]  \n"
     ]
    }
   ],
   "source": [
    "from tqdm import tqdm\n",
    "embeddings = [get_embedding(text) for text in tqdm(chunks)]"
   ]
  },
  {
   "cell_type": "code",
   "execution_count": 26,
   "metadata": {},
   "outputs": [],
   "source": [
    "# 백업용 \n",
    "import json\n",
    "import pickle\n",
    "\n",
    "# 청크 저장장\n",
    "with open(\"../data_backup/chunks.json\", \"w\", encoding=\"utf-8\") as f:\n",
    "    json.dump(chunks, f, ensure_ascii=False, indent=2)\n",
    "\n",
    "with open(\"../data_backup/metas.json\", \"w\", encoding=\"utf-8\") as f:\n",
    "    json.dump(metas, f, ensure_ascii=False, indent=2)\n",
    "\n",
    "# 피클 형식 (빠르고 이진 저장)\n",
    "with open(\"../data_backup/embeddings.pkl\", \"wb\") as f:\n",
    "    pickle.dump(embeddings, f)"
   ]
  },
  {
   "cell_type": "code",
   "execution_count": 27,
   "metadata": {},
   "outputs": [
    {
     "ename": "KeyboardInterrupt",
     "evalue": "",
     "output_type": "error",
     "traceback": [
      "\u001b[0;31m---------------------------------------------------------------------------\u001b[0m",
      "\u001b[0;31mKeyboardInterrupt\u001b[0m                         Traceback (most recent call last)",
      "Cell \u001b[0;32mIn[27], line 11\u001b[0m\n\u001b[1;32m      8\u001b[0m     metas \u001b[38;5;241m=\u001b[39m json\u001b[38;5;241m.\u001b[39mload(f)\n\u001b[1;32m     10\u001b[0m \u001b[38;5;66;03m# 피클 불러오기\u001b[39;00m\n\u001b[0;32m---> 11\u001b[0m \u001b[38;5;28;01mwith\u001b[39;00m \u001b[38;5;28mopen\u001b[39m(\u001b[38;5;124m\"\u001b[39m\u001b[38;5;124m../data_backup/embeddings.pkl\u001b[39m\u001b[38;5;124m\"\u001b[39m, \u001b[38;5;124m\"\u001b[39m\u001b[38;5;124mrb\u001b[39m\u001b[38;5;124m\"\u001b[39m) \u001b[38;5;28;01mas\u001b[39;00m f:\n\u001b[1;32m     12\u001b[0m     embeddings \u001b[38;5;241m=\u001b[39m pickle\u001b[38;5;241m.\u001b[39mload(f)\n",
      "\u001b[0;31mKeyboardInterrupt\u001b[0m: "
     ]
    }
   ],
   "source": [
    "# 백업 파일 불러오기\n",
    "\n",
    "# JSON 불러오기\n",
    "with open(\"../data_backup/chunks.json\", \"r\", encoding=\"utf-8\") as f:\n",
    "    chunks = json.load(f)\n",
    "\n",
    "with open(\"../data_backup/metas.json\", \"r\", encoding=\"utf-8\") as f:\n",
    "    metas = json.load(f)\n",
    "\n",
    "# 피클 불러오기\n",
    "with open(\"../data_backup/embeddings.pkl\", \"rb\") as f:\n",
    "    embeddings = pickle.load(f)"
   ]
  },
  {
   "cell_type": "code",
   "execution_count": null,
   "metadata": {},
   "outputs": [],
   "source": [
    "embeddings"
   ]
  },
  {
   "cell_type": "code",
   "execution_count": null,
   "metadata": {},
   "outputs": [],
   "source": [
    "# chromadb 클라이언트 설정\n",
    "chroma_client = chromadb.HttpClient(host='', port=8000)  # 원하는 경로로 지정 가능\n",
    "collection_name = \"chroma_rec\""
   ]
  },
  {
   "cell_type": "code",
   "execution_count": null,
   "metadata": {},
   "outputs": [],
   "source": [
    "# chroma db 상태 확인\n",
    "chroma_client.heartbeat()\n",
    "#chroma_client.reset()"
   ]
  },
  {
   "cell_type": "code",
   "execution_count": null,
   "metadata": {},
   "outputs": [],
   "source": [
    "try:\n",
    "    collection = chroma_client.get_collection(collection_name)\n",
    "except:\n",
    "    collection = chroma_client.create_collection(name=collection_name)"
   ]
  },
  {
   "cell_type": "code",
   "execution_count": null,
   "metadata": {},
   "outputs": [],
   "source": [
    "# Chroma 적재\n",
    "collection.add(\n",
    "    documents=chunks,\n",
    "    embeddings=embeddings,\n",
    "    metadatas=metas,\n",
    "    ids=[meta[\"chunk_id\"] for meta in metas]\n",
    ")\n",
    "print(f\"{len(chunks)}\")\n"
   ]
  },
  {
   "cell_type": "code",
   "execution_count": null,
   "metadata": {},
   "outputs": [],
   "source": [
    "len(embeddings)"
   ]
  },
  {
   "cell_type": "code",
   "execution_count": null,
   "metadata": {},
   "outputs": [],
   "source": [
    "# chroma 내부에 데이터 확인\n",
    "data = collection.get(include=[\"documents\", \"metadatas\"], limit=5)\n",
    "\n",
    "for doc, meta in zip(data[\"documents\"], data[\"metadatas\"]):\n",
    "    print(f\"[{meta['rec_id']} - {meta['company_name']}]\\n{doc[:300]}...\\n\")"
   ]
  },
  {
   "cell_type": "code",
   "execution_count": null,
   "metadata": {},
   "outputs": [],
   "source": [
    "print(\"총 문서 수:\", collection.count())"
   ]
  },
  {
   "cell_type": "code",
   "execution_count": null,
   "metadata": {},
   "outputs": [],
   "source": [
    "data = collection.get(include=[\"documents\", \"metadatas\", \"embeddings\"], limit=1)\n",
    "\n",
    "print(data[\"embeddings\"][0][:10])  # 앞 10개만 보기"
   ]
  },
  {
   "cell_type": "markdown",
   "metadata": {},
   "source": [
    "---"
   ]
  },
  {
   "cell_type": "markdown",
   "metadata": {},
   "source": [
    "# Elastic Search"
   ]
  },
  {
   "cell_type": "code",
   "execution_count": null,
   "metadata": {},
   "outputs": [],
   "source": [
    "from elasticsearch import Elasticsearch\n",
    "from elasticsearch.helpers import bulk"
   ]
  },
  {
   "cell_type": "code",
   "execution_count": null,
   "metadata": {},
   "outputs": [],
   "source": [
    "es_client = Elasticsearch (\"http://192.168.0.22:9200\", basic_auth=(\"elastic\", \"ElastiC7276\" ), timeout=30, max_retries=10, retry_on_timeout=True)"
   ]
  },
  {
   "cell_type": "code",
   "execution_count": null,
   "metadata": {},
   "outputs": [],
   "source": [
    "es_client = Elasticsearch(\n",
    "    \"http://192.168.0.22:9200\",\n",
    "    basic_auth=(\"elastic\", \"ElastiC7276\" ),\n",
    "    request_timeout=60,\n",
    "    max_retries=5,\n",
    "    retry_on_timeout=True,\n",
    "    connections_per_node=5    \n",
    ")"
   ]
  },
  {
   "cell_type": "code",
   "execution_count": null,
   "metadata": {},
   "outputs": [],
   "source": [
    "es_client.ping()"
   ]
  },
  {
   "cell_type": "code",
   "execution_count": null,
   "metadata": {},
   "outputs": [],
   "source": [
    "index_name = \"elastic_rec\""
   ]
  },
  {
   "cell_type": "code",
   "execution_count": null,
   "metadata": {},
   "outputs": [],
   "source": [
    "# 인덱스 생성 (없을 때만)\n",
    "if not es_client.indices.exists(index=index_name):\n",
    "    es_client.indices.create(\n",
    "        index=index_name,\n",
    "        body={\n",
    "            \"mappings\": {\n",
    "                \"properties\": {\n",
    "                    \"description\": {\"type\": \"text\"},         # 토큰화 검색\n",
    "                    \"rec_id\": {\"type\": \"keyword\"},           # 정렬/필터링\n",
    "                    \"company_name\": {\"type\": \"keyword\"}\n",
    "                }\n",
    "            }\n",
    "        }\n",
    "    )"
   ]
  },
  {
   "cell_type": "code",
   "execution_count": null,
   "metadata": {},
   "outputs": [],
   "source": [
    "actions = [\n",
    "    {\n",
    "        \"_index\": index_name,\n",
    "        \"_id\": meta[\"chunk_id\"],\n",
    "        \"_source\": {\n",
    "            \"rec_id\": meta[\"rec_id\"],\n",
    "            \"company_name\": meta[\"company_name\"],\n",
    "            \"description\": chunk  # chunk 텍스트\n",
    "        }\n",
    "    }\n",
    "    for chunk, meta in zip(chunks, metas)\n",
    "]\n"
   ]
  },
  {
   "cell_type": "code",
   "execution_count": null,
   "metadata": {},
   "outputs": [],
   "source": [
    "bulk(es_client, actions)"
   ]
  },
  {
   "cell_type": "markdown",
   "metadata": {},
   "source": [
    "## 아래는 elastic search 연결 테스트"
   ]
  },
  {
   "cell_type": "code",
   "execution_count": null,
   "metadata": {},
   "outputs": [],
   "source": [
    "# ping은 진짜 최소 응답이라 연결 가능 여부만 판단\n",
    "es_client = Elasticsearch(\"http://192.168.0.22:9200\", request_timeout=5)\n",
    "\n",
    "try:\n",
    "    print(\"ping:\", es_client.ping())\n",
    "except Exception as e:\n",
    "    print(\"Error:\", e)\n"
   ]
  },
  {
   "cell_type": "code",
   "execution_count": null,
   "metadata": {},
   "outputs": [],
   "source": [
    "es_client.info()"
   ]
  },
  {
   "cell_type": "code",
   "execution_count": null,
   "metadata": {},
   "outputs": [],
   "source": [
    "small_df = df.head(50)\n",
    "index_name = \"job_test_index\""
   ]
  },
  {
   "cell_type": "code",
   "execution_count": null,
   "metadata": {},
   "outputs": [],
   "source": [
    "small_df"
   ]
  },
  {
   "cell_type": "code",
   "execution_count": null,
   "metadata": {},
   "outputs": [],
   "source": [
    "if not es_client.indices.exists(index=index_name):\n",
    "    es_client.indices.create(\n",
    "        index=index_name,\n",
    "        body={\n",
    "            \"mappings\": {\n",
    "                \"properties\": {\n",
    "                    \"description\": {\"type\": \"text\"},\n",
    "                    \"rec_id\": {\"type\": \"keyword\"},\n",
    "                    \"company_name\": {\"type\": \"keyword\"}\n",
    "                }\n",
    "            }\n",
    "        }\n",
    "    )"
   ]
  },
  {
   "cell_type": "code",
   "execution_count": null,
   "metadata": {},
   "outputs": [],
   "source": [
    "es_client.cluster.health()"
   ]
  },
  {
   "cell_type": "code",
   "execution_count": null,
   "metadata": {},
   "outputs": [],
   "source": [
    "es_client.info()"
   ]
  },
  {
   "cell_type": "markdown",
   "metadata": {},
   "source": [
    "---"
   ]
  },
  {
   "cell_type": "markdown",
   "metadata": {},
   "source": [
    "# Hybrid Search \n",
    "1. 사용자 쿼리: 이력서/자소서 PDF → 텍스트 → 벡터\n",
    "2. 검색:\n",
    "    - ElasticSearch → 키워드 기반 검색 (precision↑)\n",
    "    - ChromaDB      → 벡터 기반 유사도 검색 (recall↑)\n",
    "3. 랭크퓨전 (rec_id 기준)\n",
    "    - 3-1. rerank 할까 말까\n",
    "4. Top-K 채용공고 추천"
   ]
  },
  {
   "cell_type": "markdown",
   "metadata": {},
   "source": [
    "### 1. 사용자 쿼리 - 이력서"
   ]
  },
  {
   "cell_type": "code",
   "execution_count": null,
   "metadata": {},
   "outputs": [],
   "source": [
    "path = \"./resume_sample.pdf\"\n",
    "doc = fitz.open(path, filetype=\"pdf\")\n",
    "text = \"\\n\".join([page.get_text(\"text\") for page in doc])"
   ]
  },
  {
   "cell_type": "code",
   "execution_count": null,
   "metadata": {},
   "outputs": [],
   "source": [
    "print(text)"
   ]
  },
  {
   "cell_type": "markdown",
   "metadata": {},
   "source": [
    "### 여기서부터 "
   ]
  },
  {
   "cell_type": "code",
   "execution_count": null,
   "metadata": {},
   "outputs": [],
   "source": [
    "# read pdf & pdf to text\n",
    "def read_pdf(path):\n",
    "    path = \"./resume_sample.pdf\"\n",
    "    doc = fitz.open(path, filetype=\"pdf\")\n",
    "    resume_text = \"\\n\".join([page.get_text(\"text\") for page in doc])\n",
    "    return resume_text"
   ]
  },
  {
   "cell_type": "code",
   "execution_count": null,
   "metadata": {},
   "outputs": [],
   "source": [
    "def extract_text_from_pdf(path):\n",
    "    doc = fitz.open(path)\n",
    "    text = \"\"\n",
    "    for page in doc:\n",
    "        text += page.get_text()\n",
    "    return text"
   ]
  },
  {
   "cell_type": "code",
   "execution_count": null,
   "metadata": {},
   "outputs": [],
   "source": [
    "user_pdf_text = extract_text_from_pdf(\"resume_sample.pdf\")\n",
    "user_text_clean = user_pdf_text.replace(\"\\n\", \" \").strip()\n",
    "\n",
    "# 너무 길면 토큰 자르기\n",
    "if len(user_text_clean) > 4000:\n",
    "    user_text_clean = user_text_clean[:4000]  # OpenAI 임베딩 safe limit\n",
    "\n",
    "query = user_text_clean  # 사용자 전체 문서 기반\n",
    "query_embedding = get_embedding(query)"
   ]
  },
  {
   "cell_type": "markdown",
   "metadata": {},
   "source": [
    "### 2. elastic search - 키워드 기반 검색"
   ]
  },
  {
   "cell_type": "code",
   "execution_count": null,
   "metadata": {},
   "outputs": [],
   "source": [
    "def search_elastic(query, index_name, size=10):\n",
    "    response = es_client.search(\n",
    "        index=index_name,\n",
    "        body={\n",
    "            \"query\": {\n",
    "                \"multi_match\": {\n",
    "                    \"query\": query,\n",
    "                    \"fields\": [\"description\", \"company_name\"]\n",
    "                }\n",
    "            }\n",
    "        },\n",
    "        size=size\n",
    "    )\n",
    "    return [\n",
    "        {\n",
    "            \"rec_id\": hit[\"_source\"][\"rec_id\"],\n",
    "            \"score_elastic\": hit[\"_score\"]\n",
    "        }\n",
    "        for hit in response[\"hits\"][\"hits\"]\n",
    "    ]"
   ]
  },
  {
   "cell_type": "markdown",
   "metadata": {},
   "source": [
    "### 3. chromadb 검색"
   ]
  },
  {
   "cell_type": "code",
   "execution_count": null,
   "metadata": {},
   "outputs": [],
   "source": []
  },
  {
   "cell_type": "markdown",
   "metadata": {},
   "source": [
    "### 4. rank fusion"
   ]
  },
  {
   "cell_type": "code",
   "execution_count": null,
   "metadata": {},
   "outputs": [],
   "source": [
    "from collections import defaultdict\n",
    "\n",
    "fusion_scores = defaultdict(lambda: {\"score_elastic\": 0, \"score_chroma\": 0})\n",
    "\n",
    "for doc in search_elastic(user_query, index_name=\"job_test_index\"):\n",
    "    fusion_scores[doc[\"rec_id\"]][\"score_elastic\"] = doc[\"score_elastic\"]\n",
    "\n",
    "for doc in res_chroma_docs:\n",
    "    fusion_scores[doc[\"rec_id\"]][\"score_chroma\"] = doc[\"score_chroma\"]\n",
    "\n",
    "# 가중 평균 or 단순 합산 (튜닝 가능)\n",
    "fused = [\n",
    "    {\n",
    "        \"rec_id\": rec_id,\n",
    "        \"fusion_score\": s[\"score_elastic\"] * 0.5 + s[\"score_chroma\"] * 0.5,\n",
    "        \"score_elastic\": s[\"score_elastic\"],\n",
    "        \"score_chroma\": s[\"score_chroma\"]\n",
    "    }\n",
    "    for rec_id, s in fusion_scores.items()\n",
    "]\n",
    "\n",
    "# Top-K 추천\n",
    "top_k = sorted(fused, key=lambda x: x[\"fusion_score\"], reverse=True)[:5]"
   ]
  },
  {
   "cell_type": "markdown",
   "metadata": {},
   "source": [
    "### 5. 결과 확인"
   ]
  },
  {
   "cell_type": "code",
   "execution_count": null,
   "metadata": {},
   "outputs": [],
   "source": [
    "# df는 rec_id 포함된 원본 데이터프레임\n",
    "df_result = pd.DataFrame(top_k)\n",
    "df_result = df_result.merge(df[[\"rec_id\", \"company_name\", \"description\"]], on=\"rec_id\", how=\"left\")\n",
    "\n",
    "df_result[[\"rec_id\", \"company_name\", \"fusion_score\", \"description\"]].head()"
   ]
  }
 ],
 "metadata": {
  "kernelspec": {
   "display_name": "apps",
   "language": "python",
   "name": "python3"
  },
  "language_info": {
   "codemirror_mode": {
    "name": "ipython",
    "version": 3
   },
   "file_extension": ".py",
   "mimetype": "text/x-python",
   "name": "python",
   "nbconvert_exporter": "python",
   "pygments_lexer": "ipython3",
   "version": "3.10.0"
  }
 },
 "nbformat": 4,
 "nbformat_minor": 2
}
