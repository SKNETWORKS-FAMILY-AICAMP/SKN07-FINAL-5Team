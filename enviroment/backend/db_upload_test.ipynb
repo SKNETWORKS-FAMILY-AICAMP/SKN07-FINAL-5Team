{
 "cells": [
  {
   "cell_type": "code",
   "execution_count": 1,
   "metadata": {},
   "outputs": [
    {
     "data": {
      "text/plain": [
       "True"
      ]
     },
     "execution_count": 1,
     "metadata": {},
     "output_type": "execute_result"
    }
   ],
   "source": [
    "import os\n",
    "import langchain_chroma\n",
    "import openai\n",
    "import chromadb\n",
    "import fitz  # PDF에서 텍스트 추출\n",
    "from dotenv import load_dotenv\n",
    "from fastapi import FastAPI, UploadFile, File\n",
    "from sqlalchemy import create_engine, Column, Integer, String, Text, TIMESTAMP\n",
    "from sqlalchemy.ext.declarative import declarative_base\n",
    "from sqlalchemy.orm import sessionmaker\n",
    "from datetime import datetime\n",
    "from sqlalchemy import create_engine, text\n",
    "import pandas as pd\n",
    "import psycopg2\n",
    "# .env 파일 로드\n",
    "load_dotenv()"
   ]
  },
  {
   "cell_type": "code",
   "execution_count": 2,
   "metadata": {},
   "outputs": [
    {
     "data": {
      "text/plain": [
       "True"
      ]
     },
     "execution_count": 2,
     "metadata": {},
     "output_type": "execute_result"
    }
   ],
   "source": [
    "load_dotenv()"
   ]
  },
  {
   "cell_type": "code",
   "execution_count": 3,
   "metadata": {},
   "outputs": [],
   "source": [
    "POST_DB_HOST = os.getenv(\"POST_DB_HOST\")\n",
    "POST_DB_NAME = os.getenv(\"POST_DB_NAME\")\n",
    "POST_DB_USER = os.getenv(\"POST_DB_USER\")\n",
    "POST_DB_PASSWD = os.getenv(\"POST_DB_PASSWD\")\n",
    "POST_DB_PORT = os.getenv(\"POST_DB_PORT\")"
   ]
  },
  {
   "cell_type": "markdown",
   "metadata": {},
   "source": [
    "# PostgreSQL 연결"
   ]
  },
  {
   "cell_type": "code",
   "execution_count": 4,
   "metadata": {},
   "outputs": [
    {
     "data": {
      "text/plain": [
       "'43.202.186.183'"
      ]
     },
     "execution_count": 4,
     "metadata": {},
     "output_type": "execute_result"
    }
   ],
   "source": [
    "POST_DB_HOST"
   ]
  },
  {
   "cell_type": "code",
   "execution_count": 5,
   "metadata": {},
   "outputs": [],
   "source": [
    "# PostgreSQL 연결 엔진 생성\n",
    "post_engine = create_engine(f'postgresql://{POST_DB_USER}:{POST_DB_PASSWD}@{POST_DB_HOST}:{POST_DB_PORT}/{POST_DB_NAME}')"
   ]
  },
  {
   "cell_type": "code",
   "execution_count": 6,
   "metadata": {},
   "outputs": [],
   "source": [
    "db = psycopg2.connect(host=POST_DB_HOST, dbname=POST_DB_NAME,user=POST_DB_USER,password=POST_DB_PASSWD,port=POST_DB_PORT)\n",
    "cursor = db.cursor()"
   ]
  },
  {
   "cell_type": "code",
   "execution_count": 29,
   "metadata": {},
   "outputs": [],
   "source": [
    "db.autocommit = False"
   ]
  },
  {
   "cell_type": "markdown",
   "metadata": {},
   "source": [
    "# pdf, pdf to text 데이터 "
   ]
  },
  {
   "cell_type": "code",
   "execution_count": 31,
   "metadata": {},
   "outputs": [
    {
     "name": "stdout",
     "output_type": "stream",
     "text": [
      "무용수 이력서\n",
      "무용수 신입 이력서 예시\n",
      "📌 기본 정보\n",
      "이름: 김예린\n",
      "연락처: 010-5678-1234\n",
      "이메일: yerin.kim@example.com\n",
      "인스타그램/포트폴리오: @yerin_dance\n",
      "키: 168cm / 몸무게: 52kg\n",
      "📌 자기소개 (About Me)\n",
      "무대 위에서 감정을 온전히 표현하는 무용수 김예린입니다. 현대무용과 발레를 중심으로 다\n",
      "양한 퍼포먼스 경험을 쌓아왔으며, 작품 해석 능력과 유연한 움직임이 강점입니다. 끊임없는 \n",
      "연습과 창의적인 안무 해석으로 무대에서 감동을 선사하는 아티스트가 되고 싶습니다.\n",
      "📌 학력\n",
      "○ 한국예술종합학교 무용원 현대무용과\n",
      "재학기간: 2019.03 ~ 2025.02 (졸업예정)\n",
      "전공: 현대무용\n",
      "주요 수업: 테크닉 트레이닝, 즉흥무, 안무 창작, 무용 분석\n",
      "📌 주요 경력 및 활동\n",
      "1. 2024 서울 국제댄스페스티벌 참가\n",
      "안무가 OOO의 작품 \"Beyond the Silence\" 출연\n",
      "섬세한 감정 연기와 유려한 동작 표현으로 호평받음\n",
      "2. 2023 무용 창작 공연 \"몸의 언어\" 참여\n",
      "창작안무 및 솔로 공연 진행\n",
      "감각적인 움직임과 공간 활용\n",
      "무용수 이력서\n",
      "1\n",
      "\n"
     ]
    }
   ],
   "source": [
    "path = \"./무용수_이력서.pdf\"\n",
    "doc = fitz.open(path)\n",
    "for page in doc:\n",
    "    resume_text = page.get_text()\n",
    "    print(resume_text)"
   ]
  },
  {
   "cell_type": "code",
   "execution_count": 64,
   "metadata": {},
   "outputs": [],
   "source": [
    "path = \"./resume_sample.pdf\"\n",
    "doc = fitz.open(path, filetype=\"pdf\")\n",
    "text = \"\\n\".join([page.get_text(\"text\") for page in doc])"
   ]
  },
  {
   "cell_type": "code",
   "execution_count": null,
   "metadata": {},
   "outputs": [
    {
     "data": {
      "text/plain": [
       "'이력서\\nQA 엔지니어 신입 이력서\\n📌 기본 정보\\n이름: 김지원\\n연락처: 010-1234-5678\\n이메일: jiwoon.kim@example.com\\nGitHub: github.com/jiwoonkim\\nLinkedIn: linkedin.com/in/jiwoonkim\\n📌 자기소개 (About Me)\\n소프트웨어 품질 보증(QA)에 대한 깊은 관심과 꼼꼼한 분석력을 바탕으로, 사용자에게 신뢰\\n할 수 있는 서비스를 제공하는 것을 목표로 하는 QA 엔지니어 신입 김지원입니다. 테스트 자\\n동화 및 결함 분석을 통해 제품의 완성도를 높이는 데 기여하고 싶습니다.\\n📌 학력\\n○ 서울대학교 컴퓨터공학과\\n재학기간: 2019.03 ~ 2025.02 (졸업예정)\\n주요과목: 소프트웨어 공학, 데이터베이스, 운영체제, 알고리즘, 테스트 자동화\\n📌 기술 스택\\n✅ 테스트 자동화: Selenium, JUnit, PyTest\\n✅ 프로그래밍 언어: Python, Java, JavaScript\\n✅ CI/CD: Jenkins, GitHub Actions\\n✅ 테스트 도구: Postman(REST API 테스트), JMeter(부하 테스트)\\n✅ 버전 관리: Git, GitHub, GitLab\\n✅ 이슈 트래킹: JIRA, Trello\\n📌 프로젝트 경험\\n이력서\\n1\\n\\n1. 웹 서비스 자동화 테스트 프로젝트\\n기간: 2024.03 ~ 2024.06\\n내용: Selenium과 PyTest를 활용하여 웹 애플리케이션 자동화 테스트 진행\\n성과:\\nUI 테스트 자동화로 테스트 소요 시간 40% 단축\\n30개 이상의 주요 기능 테스트 케이스 작성 및 실행\\n2. 모바일 앱 기능 테스트 (Android, iOS)\\n기간: 2023.12 ~ 2024.02\\n내용: Appium을 이용한 모바일 애플리케이션 UI 테스트\\n성과:\\n15개 주요 기능 테스트 시나리오 작성 및 자동화\\n크리티컬 버그 5건 발견 및 개발팀과 협업하여 해결\\n📌 인턴 및 실무 경험\\n○ [ABC 테크] 소프트웨어 QA 인턴 (2024.07 ~ 2024.12)\\n기능 및 성능 테스트 수행 (Web, Mobile)\\nJira를 활용한 버그 트래킹 및 리포팅\\n테스트 자동화 스크립트 작성 (Selenium, PyTest)\\n📌 자격증 & 교육\\nISTQB Foundation Level (2024)\\n정보처리기사 (2025 예정)\\n소프트웨어 테스트 자동화 과정 수료 (패스트캠퍼스, 2024)\\n📌 지원동기 및 포부\\n소프트웨어의 품질이 사용자 경험을 결정한다고 생각하며, 철저한 테스트와 분석을 통해 안\\n정적인 서비스를 제공하는 QA 엔지니어가 되고자 합니다. 체계적인 테스트 프로세스와 자동\\n화 기술을 활용하여 품질 향상에 기여하고, 지속적으로 성장하는 QA 전문가가 되겠습니다.\\n이력서\\n2\\n'"
      ]
     },
     "execution_count": 67,
     "metadata": {},
     "output_type": "execute_result"
    }
   ],
   "source": []
  },
  {
   "cell_type": "code",
   "execution_count": 47,
   "metadata": {},
   "outputs": [],
   "source": [
    "user_id = 'interview'"
   ]
  },
  {
   "cell_type": "code",
   "execution_count": null,
   "metadata": {},
   "outputs": [],
   "source": [
    "sql = \"\"\"\n",
    "INSERT INTO resume_popol_history (user_id, resume_text, cover_letter_text, popol_text)\n",
    "VALUES (%s, %s, %s, %s);\n",
    "\"\"\""
   ]
  },
  {
   "cell_type": "code",
   "execution_count": 60,
   "metadata": {},
   "outputs": [],
   "source": [
    "cursor.execute(sql, (user_id, resume_text))"
   ]
  },
  {
   "cell_type": "code",
   "execution_count": null,
   "metadata": {},
   "outputs": [],
   "source": [
    "sql = \"\"\"\n",
    "DELETE INTO resume_popol_history (user_id, resume_text)\n",
    "VALUES (%s, %s);\n",
    "\"\"\""
   ]
  },
  {
   "cell_type": "code",
   "execution_count": 61,
   "metadata": {},
   "outputs": [],
   "source": [
    "db.commit()"
   ]
  },
  {
   "cell_type": "code",
   "execution_count": null,
   "metadata": {},
   "outputs": [],
   "source": [
    "cursor.close()\n",
    "db.close()"
   ]
  },
  {
   "cell_type": "code",
   "execution_count": 50,
   "metadata": {},
   "outputs": [],
   "source": [
    "db.rollback()"
   ]
  },
  {
   "cell_type": "code",
   "execution_count": null,
   "metadata": {},
   "outputs": [],
   "source": [
    "def insert_data():\n",
    "    sql = \"\"\"\n",
    "    INSERT INTO resume_popol_history (user_id, resume_text, cover_letter_text, popol_text)\n",
    "    VALUES (%s, %s, %s, %s);\n",
    "    \"\"\"\n",
    "    cursor.execute(sql, (user_id, resume_text, cover_letter_text, popol_text))\n",
    "    db.commit()\n",
    "    cursor.close()\n",
    "    db.close()\n"
   ]
  },
  {
   "cell_type": "code",
   "execution_count": null,
   "metadata": {},
   "outputs": [],
   "source": [
    "# 마지막 삽입 데이터 삭제 / 왜쓰는지 알아보자\n",
    "def del_last_data():\n",
    "    sql = \"\"\"\n",
    "    delete from resume_popol_history \n",
    "        where user_id = %s\n",
    "        and insert_date = ( select insert_date\n",
    "                                from resume_popol_history rph\n",
    "                                order by insert_date desc\n",
    "                                limit 1\n",
    "                                    );\n",
    "    \"\"\"\n",
    "    cursor.execute(sql,(user_id))\n",
    "    db.commit()\n",
    "    cursor.close()\n",
    "    db.close()"
   ]
  },
  {
   "cell_type": "markdown",
   "metadata": {},
   "source": [
    "# embedding text"
   ]
  },
  {
   "cell_type": "code",
   "execution_count": null,
   "metadata": {},
   "outputs": [],
   "source": [
    "model = 'text-embedding-3-large'"
   ]
  },
  {
   "cell_type": "code",
   "execution_count": null,
   "metadata": {},
   "outputs": [],
   "source": [
    "def get_embedding(text, model=\"text-embedding-3-large\"):\n",
    "    response = openai.embeddings.create(\n",
    "        text = resume_text.replace(\"\\n\", \"\").strip(),\n",
    "        model=model,\n",
    "        input=text\n",
    "    )\n",
    "    return response.data[0].embedding\n",
    "\n",
    "\n"
   ]
  },
  {
   "cell_type": "code",
   "execution_count": null,
   "metadata": {},
   "outputs": [],
   "source": [
    "# 예시\n",
    "text = resume_text.replace(\"\\n\", \"\").strip()\n",
    "embedding = get_embedding(text)"
   ]
  },
  {
   "cell_type": "code",
   "execution_count": null,
   "metadata": {},
   "outputs": [],
   "source": []
  },
  {
   "cell_type": "code",
   "execution_count": null,
   "metadata": {},
   "outputs": [],
   "source": []
  }
 ],
 "metadata": {
  "kernelspec": {
   "display_name": "apps",
   "language": "python",
   "name": "python3"
  },
  "language_info": {
   "codemirror_mode": {
    "name": "ipython",
    "version": 3
   },
   "file_extension": ".py",
   "mimetype": "text/x-python",
   "name": "python",
   "nbconvert_exporter": "python",
   "pygments_lexer": "ipython3",
   "version": "3.10.0"
  }
 },
 "nbformat": 4,
 "nbformat_minor": 2
}
