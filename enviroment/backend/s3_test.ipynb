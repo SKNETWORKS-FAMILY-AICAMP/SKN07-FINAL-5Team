{
 "cells": [
  {
   "cell_type": "code",
   "execution_count": null,
   "id": "33fd280b",
   "metadata": {},
   "outputs": [],
   "source": [
    "import os\n",
    "import boto3\n",
    "import fitz\n",
    "\n",
    "s3 = boto3.resource('s3',\n",
    "                    aws_access_key_id='K',\n",
    "                    aws_secret_access_key='')\n",
    "bucket = s3.Bucket('')"
   ]
  },
  {
   "cell_type": "code",
   "execution_count": 7,
   "id": "5313cc8a",
   "metadata": {},
   "outputs": [],
   "source": [
    "file = fitz.open('./data/무용수_이력서.pdf')"
   ]
  },
  {
   "cell_type": "code",
   "execution_count": null,
   "id": "2d4239cf",
   "metadata": {},
   "outputs": [],
   "source": [
    "import boto3\n",
    "import fitz\n",
    "\n",
    "# S3 클라이언트 생성\n",
    "s3 = boto3.client('s3',\n",
    "                    aws_access_key_id='',\n",
    "                    aws_secret_access_key='')\n",
    "\n",
    "\n",
    "\n",
    "file_path = ''                # 저장할 파일\n",
    "bucket = ''                               # 저장할 버켓\n",
    "s3_key = '' # 저장 할 곳/저장할 파일 이름\n",
    "\n",
    "s3.upload_file(file_path, bucket, s3_key)"
   ]
  },
  {
   "cell_type": "code",
   "execution_count": null,
   "id": "9beb625f",
   "metadata": {},
   "outputs": [],
   "source": [
    "file_ps = ''\n",
    "s3.download_file(bucket, s3_key, file_ps)"
   ]
  }
 ],
 "metadata": {
  "kernelspec": {
   "display_name": "apps",
   "language": "python",
   "name": "python3"
  },
  "language_info": {
   "codemirror_mode": {
    "name": "ipython",
    "version": 3
   },
   "file_extension": ".py",
   "mimetype": "text/x-python",
   "name": "python",
   "nbconvert_exporter": "python",
   "pygments_lexer": "ipython3",
   "version": "3.10.0"
  }
 },
 "nbformat": 4,
 "nbformat_minor": 5
}
