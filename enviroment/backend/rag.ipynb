{
 "cells": [
  {
   "cell_type": "code",
   "execution_count": 1,
   "metadata": {},
   "outputs": [],
   "source": [
    "import os\n",
    "import sys\n",
    "import pandas as pd\n",
    "import chromadb\n",
    "from chromadb.config import Settings\n",
    "from langchain.schema import Document\n",
    "from langchain.vectorstores import Chroma\n",
    "from langchain.embeddings import OpenAIEmbeddings\n",
    "from langchain_text_splitters import RecursiveCharacterTextSplitter\n",
    "from langchain_community.document_loaders import TextLoader"
   ]
  },
  {
   "cell_type": "code",
   "execution_count": 2,
   "metadata": {},
   "outputs": [],
   "source": [
    "df = pd.read_csv('./data/job_opening.csv')"
   ]
  },
  {
   "cell_type": "code",
   "execution_count": 3,
   "metadata": {},
   "outputs": [],
   "source": [
    "# 문서 로드\n",
    "documents = [Document(page_content=f\"공고ID: {row['rec_idx']}, 공고내용: {row['jd_text']}, 공고제목: {row['recruit_title']}, 직무구분: {row['recruit_kewdcdnm']}, 지역: {row['company_place']}, 경력구분: {row['career']}, 학력: {row['education']}\", metadata={\"id\": idx}) for idx, row in df.iterrows()]"
   ]
  },
  {
   "cell_type": "code",
   "execution_count": 4,
   "metadata": {},
   "outputs": [],
   "source": [
    "# chromadb 연결\n",
    "\n",
    "client = chromadb.HttpClient(host='43.202.186.183', port=8000, settings=Settings(allow_reset=True, anonymized_telemetry=False))"
   ]
  },
  {
   "cell_type": "code",
   "execution_count": 8,
   "metadata": {},
   "outputs": [
    {
     "name": "stderr",
     "output_type": "stream",
     "text": [
      "/tmp/ipykernel_606374/1764063953.py:7: LangChainDeprecationWarning: The class `OpenAIEmbeddings` was deprecated in LangChain 0.0.9 and will be removed in 1.0. An updated version of the class exists in the :class:`~langchain-openai package and should be used instead. To use it run `pip install -U :class:`~langchain-openai` and import as `from :class:`~langchain_openai import OpenAIEmbeddings``.\n",
      "  embeddings = OpenAIEmbeddings(\n"
     ]
    }
   ],
   "source": [
    "# openai 임베딩 생성\n",
    "from dotenv import load_dotenv\n",
    "import chromadb.utils.embedding_functions as embedding_functions\n",
    "\n",
    "load_dotenv()\n",
    "\n",
    "embeddings = OpenAIEmbeddings(\n",
    "        model=\"text-embedding-ada-002\"\n",
    "    )\n"
   ]
  },
  {
   "cell_type": "code",
   "execution_count": null,
   "metadata": {},
   "outputs": [],
   "source": [
    "#collection 생성\n",
    "\n",
    "from datetime import datetime\n",
    "\n",
    "collection = client.create_collection(\n",
    "    name=\"job_opening\", \n",
    "    embedding_function=embeddings,\n",
    "    metadata={\n",
    "        \"description\": \"for recommend job_opening\",\n",
    "        \"created\": str(datetime.now())\n",
    "    }  \n",
    ")\n"
   ]
  },
  {
   "cell_type": "code",
   "execution_count": 5,
   "metadata": {},
   "outputs": [
    {
     "ename": "NameError",
     "evalue": "name 'collection' is not defined",
     "output_type": "error",
     "traceback": [
      "\u001b[0;31m---------------------------------------------------------------------------\u001b[0m",
      "\u001b[0;31mNameError\u001b[0m                                 Traceback (most recent call last)",
      "Cell \u001b[0;32mIn[5], line 1\u001b[0m\n\u001b[0;32m----> 1\u001b[0m \u001b[43mcollection\u001b[49m\n",
      "\u001b[0;31mNameError\u001b[0m: name 'collection' is not defined"
     ]
    }
   ],
   "source": [
    "collection"
   ]
  },
  {
   "cell_type": "code",
   "execution_count": 6,
   "metadata": {},
   "outputs": [
    {
     "data": {
      "text/plain": [
       "0"
      ]
     },
     "execution_count": 6,
     "metadata": {},
     "output_type": "execute_result"
    }
   ],
   "source": [
    "documents[0].metadata['id']"
   ]
  },
  {
   "cell_type": "code",
   "execution_count": 76,
   "metadata": {},
   "outputs": [
    {
     "name": "stdout",
     "output_type": "stream",
     "text": [
      "An error occurred: APIStatusError.__init__() missing 2 required keyword-only arguments: 'response' and 'body'\n"
     ]
    }
   ],
   "source": [
    "# 문서 삽입\n",
    "try:\n",
    "    for document in documents:\n",
    "        if document.page_content is not None:\n",
    "            collection.add(\n",
    "                documents = [document.page_content],\n",
    "                ids = [str(document.metadata['id'])]\n",
    "            )\n",
    "except Exception as e:\n",
    "    print(f\"An error occurred: {e}\")"
   ]
  },
  {
   "cell_type": "code",
   "execution_count": 9,
   "metadata": {},
   "outputs": [
    {
     "name": "stderr",
     "output_type": "stream",
     "text": [
      "/tmp/ipykernel_606374/3033468460.py:1: LangChainDeprecationWarning: The class `Chroma` was deprecated in LangChain 0.2.9 and will be removed in 1.0. An updated version of the class exists in the :class:`~langchain-chroma package and should be used instead. To use it run `pip install -U :class:`~langchain-chroma` and import as `from :class:`~langchain_chroma import Chroma``.\n",
      "  db = Chroma(client=client, collection_name=\"job_opening\",embedding_function=embeddings)\n"
     ]
    }
   ],
   "source": [
    "db = Chroma(client=client, collection_name=\"job_opening\",embedding_function=embeddings)"
   ]
  },
  {
   "cell_type": "code",
   "execution_count": 10,
   "metadata": {},
   "outputs": [],
   "source": [
    "retriever = db.as_retriever(\n",
    "    search_type=\"similarity\", search_kwargs={\"k\": 5}\n",
    ")\n",
    "\n",
    "docs = retriever.invoke(\"데이터 분석, AI 모델링, 감성 분석, 개발 직무 추천해줘\")"
   ]
  },
  {
   "cell_type": "code",
   "execution_count": 11,
   "metadata": {},
   "outputs": [
    {
     "data": {
      "text/plain": [
       "[Document(metadata={}, page_content=\"공고ID: 50139999, 공고내용: \\n채용공고 상세\\n[코스닥기업] 업무시스템 개발자 채용2005년 04월 02일에 설립된 응용 소프트웨어 개발 및 공급업업종의 AI기반데이터 분석,로우코드솔루션 개발,공급사업을 하는 코스닥,중소기업,주식회사기업 입니다.모집부문 및 상세내용모집부문상세내용업무시스템 개발자2명ㆍ솔루션 기반 업무시스템 개발ㆍ솔루션 개발 리더자격요건주요업무담당업무ㆍ자격요건ㆍ관련 경력 5년 이상ㆍ DB, SQL 및 데이터 지식 보유자ㆍjavascript 사용 가능자우대사항ㆍ동종업계 관련 업무 경험자ㆍ솔루션을 활용한 포털 및 업무시스템 구축 경험자ㆍ고객사 사용자 관점의 우수한 커뮤니케이션 스킬 보유자\\nㆍ기타 필수 사항\\n우대사항근무조건ㆍ근무형태:정규직(수습기간)-3개월ㆍ근무일시:ㆍ근무지역:(135-080) 서울 강남구 역삼동 708-8 세방빌딩 신관17층 -\\xa0서울 2호선 선릉역에서 1분 이내전형절차 서류전형(※서류합격자에 한하여간단한 전화인터뷰 진행) 1차면접 2차면접 최종합격접수기간 및 방법ㆍ접수기간:2025년 3월 4일 (화) 17시~ 2025년 3월 31일 (월) 24시ㆍ접수방법:사람인 입사지원ㆍ이력서양식:이력서\\xa0및 자기소개서(사진, 연락처, 희망연봉 반드시 기재요망)경력기술서 (프로젝트별 Skill inventory 포함 우대)ㆍ제출서류:유의사항ㆍ학력, 성별, 연령을 보지않는 블라인드 채용입니다. ㆍ입사지원 서류에 허위사실이 발견될 경우, 채용확정 이후라도 채용이 취소될 수 있습니다.ㆍ모집분야별로 마감일이 상이할 수 있으니 유의하시길 바랍니다.\\n, 공고제목: [코스닥기업] 업무시스템 개발자 채용, 직무구분: ['웹개발', '데이터시각화', '솔루션', '컨설턴트', 'BI 엔지니어'], 지역: 서울 강남구, 경력구분: 경력 5년↑ · 정규직, 학력: 대학(2,3년)↑\"),\n",
       " Document(metadata={}, page_content=\"공고ID: 50197577, 공고내용: \\n채용공고 상세\\nㅡ\\n㈜경동도시가스\\n 데이터 분석 및 관련\\n사업개발 전문가 채용\\n데이터 분석 및 관련사업 전문가 (정규직)\\n\\xa0\\n담당업무 \\n\\nㆍ데이터 관련 시장동향 분석\\nㆍ신규 사업기회 발굴 및 \\nㆍ관련 투자사 사업지원\\nㆍ빅데이터, AI분석, 서비스 알고리즘 개발 및 활용 전략 수립\\nㆍ데이터 분석 및 결합, 전처리, 탐색 등 기술 지원\\n자격요건\\n\\nㆍ학력 : 경영,통계,회계 및 데이터 관련 분야 석사이상 학위 소지자\\n\\xa0\\xa0\\xa0* 데이터 관련분야(전산학, 응용소프트웨어, 정보통신 공학 등)\\nㆍ해당전공 석사 학위 취득 후, 해당분야 최소 4년이상 경력자\\n우대사항\\nㆍ빅데이터 분석 및 AI 서비스 개발 10년차 이상 선호\\nㆍ공공, 국책과제 수행 및 사업화 경험 필수\\nㆍ기타 데이터 신규 서비스 개발, 사업기회 발굴 등 사업화 경험 우대\\n필요역량\\nㆍPython, R, JAVA 등 1개이상 프로그래밍 능력(필수)\\nㆍ상업용 DB 분석 관련 자격/경력 보유 우대\\nㆍ데이터 전처리,탐색, 분석기반 기술\\n모집인원\\nㆍ1명 (정규직)\\n근무조건\\nㆍ근무형태 : 정규직\\nㆍ급여 : 연봉 8,000만원 수준 (최종 합격자와 별도 협의)\\nㆍ근무시간 : 주 5일 근무, 09:00 ~ 18:00\\nㆍ근무지역 : 경동도시가스 본사 (울산광역시 북구 진장동 939)\\nㆍ데이터 사업 관련, 출장이 잦을 수 있음.\\nㆍ투자사 관리 및 대외 협력업무 출장 필수(출장비 지원)\\n전형절차\\nSTEP1\\n서류전형\\n(4월 중)\\n\\xa0\\nSTEP2\\n온라인\\n인적성검사(4월 중)\\n\\xa0\\nSTEP3\\n실무면접\\n(5월 초)\\n\\xa0\\nSTEP4\\n임원면접\\n(5월 중순)\\n\\xa0\\nSTEP5\\n최종합격자\\n발표\\n 서류전형 제출서류\\nㆍ입사지원서 및 자기소개서(당사 양식)\\nㆍ최종학교 졸업(예정) 증명서 및 성적 증명서, 기타 자격증 증빙 자료\\n입사지원서 양식\\n자기소개서 양식\\n개인정보 이용 동의서\\n 접수기간 및 방법 \\n ㆍ접수기간 : \\n \\n2025년 03월 17일(월) ~ 03월 30일(일), 2주 \\n\\nㆍ접수방법 : 사람인 온라인 입사지원\\n문의처\\nㆍ경동도시가스 인사담당자 김종훈 과장(052-219-5317, kjh3253@kdgas.co.kr)\\n\\n※ 채용 서류 반환에 관한 고지\\n\\xa0\\xa01. 이 고지는 ｢채용절차의 공정화에 관한 법률｣ 제11조 제5항에 따른 것으로, \\n\\xa0\\xa0\\xa0\\xa0최종합격자를 제외한 구직자를 대상으로 기 제출한 채용 서류를 반환 받을 수 있습니다.\\n\\xa0\\xa02. 당사 채용에 응시한 구직자 중 최종 합격이 되지 못한 구직자는 채용 여부가 확정된 날로부터 \\n\\xa0\\xa0\\xa0\\xa014일에서 180일 사이의 기간 동안 제출한 채용 서류의 반환을 청구할 수 있음을 알려드립니다. \\n\\xa0\\xa0\\xa0 \\xa0다만, 홈페이지 또는 전자우편으로 제출된 경우나 구직자가 당사의 요구 없이 자발적으로 제출한 경우에는 \\n\\xa0\\xa0 \\xa0\\xa0그러하지 아니하며, 천재지변이나 그 밖에 당사에게 책임 없는 사유로 채용 서류가 멸실된 경우에는 \\n\\xa0\\xa0\\xa0\\xa0 반환한 것으로 봅니다.\\n\\xa0\\xa03. 채용 서류 반환 청구를 하려는 구직자는 채용 서류 반환청구서\\n\\xa0\\xa0\\xa0\\xa0 [채용절차의 공정화에 관한 법률 시행규칙 별지 제3호 서식]를 작성하여 당사 \\n\\xa0\\xa0\\xa0\\xa0 이메일(kjh3253@kdgas.co.kr)로 제출하면, \\n\\xa0\\xa0\\xa0\\xa0 제출이 확인된 날로부터 14일 이내에 지정한 주소지로 등기우편을 통하여 발송해 드립니다.\\n\\xa0\\xa04. 당사는 구직자의 반환 청구에 대비하여 구인자 반환의 청구기간까지 채용 서류를 보관하게 되며, \\n\\xa0\\xa0\\xa0\\xa0 그때까지 채용 서류의 반환을 청구하지 아니할 경우에는 ｢개인정보 보호법｣에 따라 지체 없이 채용 서류 일체를\\n\\xa0\\xa0\\xa0\\xa0 파기할 예정입니다.\\n, 공고제목: 경동도시가스 데이터 분석 및 관련 사업개발 전문가 채용, 직무구분: ['데이터분석가', '데이터엔지니어', 'DBA', 'IT컨설팅', 'ICT컨설팅'], 지역: 울산 북구, 경력구분: 신입 · 경력 · 정규직, 학력: 석사↑\"),\n",
       " Document(metadata={}, page_content=\"공고ID: 50282974, 공고내용: \\n채용공고 상세\\n서비스 기획 팀장\\xa0채용(주)덴컴은 국/내외 치과 분야에 AI Solution을 탑재한 인공지능 차트를 제공하는 기업으로,2016년부터 사업을 시작하여 2022년 의료기기, 바이오 분야에 시리즈A 투자 60억을 받았으며,2024년 2월 100억원 규모의 시리즈A2 투자 유치에 성공하였습니다.이로서 덴컴의 누적 투자 유치 금액은 160억원을 넘어섰으며, 의료 분야의 혁신을 이끌며 급격하게 성장하고 있습니다.현재 덴컴에는 AI 핵심 솔루션 및 글로벌 제품 개발을 위한 국/내외 석, 박사 출신의 인력들이 함께하고 있으며,해당 분야에 특허권(영상, 음성AI 등)과 자체 AI 엔진 개발 등의 보유 기술력으로 글로벌 제품 상용화 단계에 접어 들고 있습니다.또한, 수평적인 조직 문화와 애자일 업무 문화, 자유로운 사내 호칭제도, 임직원이 서로 원활하게 커뮤니케이션 하며 공동의 목표를 향해 한 방향으로 소통하는 문화를 가지고 있으며 대부분의 직원들이 20~30대로 젊고 건강한 조직문화를 가지고 있습니다.가장 빠르게, 안정적으로 성장하고 있는 덴컴에서 세계적인 기업으로 성장해 나갈 인재를 채용하니 많은 지원 바랍니다.모집부문 및 상세내용세부 내용담당 업무- 서비스기획팀 리딩-\\xa0음성 인식 AI 서비스 기획 책임 관리-\\xa0음성 인식 AI 기술이 적용된\\xa0AI medical solution\\xa0솔루션 프로젝트 관리-\\xa0프로젝트 관련 일정 기획-\\xa0가설 검증 기반의 서비스 기능 고도화 계획 수립-\\xa0서비스 관련 주요 이슈 개선 계획 수립자격 요건-\\xa0학력 : 대졸 이상-\\xa0서비스기획 경력 8년 이상-\\xa0팀 운영 및 프로젝트 리딩 경력자-\\xa0IT 프로젝트 수행 경력자우대 사항-\\xa0애자일 방법론을 통한 프로젝트 리딩 경험 보유자-\\xa0의료 산업에 대한 경험이 있는 분-\\xa0IT 서비스기획 경력자전형 절차ㆍ서류전형 > 1차면접 > 2차면접 > 최종합격ㆍ면접일정은 추후 통보됩니다.유의 사항ㆍ허위사실이 발견될 경우 채용이 취소될 수 있습니다.\\n, 공고제목: 음성인식 AI 혁신을 이끌 [서비스기획 팀장] 모집, 직무구분: ['Figma', '상품기획', '서비스기획', '앱기획', '웹기획'], 지역: 서울 강남구 외, 경력구분: 경력 8년↑ · 정규직, 학력: 대학교(4년)↑\"),\n",
       " Document(metadata={}, page_content=\"공고ID: 50283013, 공고내용: \\n채용공고 상세\\n서비스 기획자\\xa0채용(주)덴컴은 국/내외 치과 분야에 AI Solution을 탑재한 인공지능 차트를 제공하는 기업으로,2016년부터 사업을 시작하여 2022년 의료기기, 바이오 분야에 시리즈A 투자 60억을 받았으며,2024년 2월 100억원 규모의 시리즈A2 투자 유치에 성공하였습니다.이로서 덴컴의 누적 투자 유치 금액은 160억원을 넘어섰으며, 의료 분야의 혁신을 이끌며 급격하게 성장하고 있습니다.현재 덴컴에는 AI 핵심 솔루션 및 글로벌 제품 개발을 위한 국/내외 석, 박사 출신의 인력들이 함께하고 있으며,해당 분야에 특허권(영상, 음성AI 등)과 자체 AI 엔진 개발 등의 보유 기술력으로 글로벌 제품 상용화 단계에 접어 들고 있습니다.또한, 수평적인 조직 문화와 애자일 업무 문화, 자유로운 사내 호칭제도, 임직원이 서로 원활하게 커뮤니케이션 하며 공동의 목표를 향해 한 방향으로 소통하는 문화를 가지고 있으며 대부분의 직원들이 20~30대로 젊고 건강한 조직문화를 가지고 있습니다.가장 빠르게, 안정적으로 성장하고 있는 덴컴에서 세계적인 기업으로 성장해 나갈 인재를 채용하니 많은 지원 바랍니다.모집부문 및 상세내용세부 내용담당 업무- 음성 인식 AI 기술이 적용된 EDR(Electronic Dental Record) 솔루션 기획/설계/운영- 사용자 분석, 요구사항 수집, 기획안 작성, 정책 수립 등 전반적인 서비스 기획- 가설 검증 기반의 서비스 기능 고도화- 지표로 실행의 결과를 파악하고, 후속 기획과 활성화 방안 모색- 마켓 트렌드 및 유사 제품 리서치자격 요건-\\xa0학력 : 대졸 이상-\\xa0기획/PM/PO/운영 경험 3년 이상-\\xa0프로덕트 기획 초기부터 참여하여 상용화/운영까지 경험한 분-\\xa0개발, 디자인, 전략, 영업 등 다양한 이해 관계자들과 원활한 커뮤니케이션이 가능한 분우대 사항-\\xa0음성 인식 AI기술에 대해 관심이 있는 분-\\xa0의료 산업에 대한 경험이 있는 분-\\xa0유사 서비스 사용 및 리서치에 적극적인 분-\\xa0UX 기획 및 개선 경험이 있는 분-\\xa0Figma, Google Workspace, Microsoft Office, Confluence, Jira, Slack 등 협업 툴 사용에 익숙한 분전형 절차ㆍ서류전형 > 1차면접 > 2차면접 > 최종합격ㆍ면접일정은 추후 통보됩니다.유의 사항ㆍ허위사실이 발견될 경우 채용이 취소될 수 있습니다.\\n, 공고제목: 음성인식 AI 혁신을 이끌 [서비스기획 담당자] 모집, 직무구분: ['Figma', '상품기획', '서비스기획', '앱기획', '웹기획'], 지역: 서울 강남구 외, 경력구분: 경력 3년↑ · 정규직, 학력: 대학교(4년)↑\"),\n",
       " Document(metadata={}, page_content=\"공고ID: 50235054, 공고내용: \\n채용공고 상세\\n \\n, 공고제목: [미래아이엔씨] 마케팅 개발기획자 모집(경력직), 직무구분: ['기술지원', '백엔드/서버개발', '웹개발', '머신러닝', '마케팅기획'], 지역: 서울 금천구 외, 경력구분: 경력 3년↑ · 정규직, 학력: 대학교(4년)↑\")]"
      ]
     },
     "execution_count": 11,
     "metadata": {},
     "output_type": "execute_result"
    }
   ],
   "source": [
    "docs"
   ]
  },
  {
   "cell_type": "code",
   "execution_count": 94,
   "metadata": {},
   "outputs": [],
   "source": [
    "from langchain.chat_models import ChatOpenAI\n",
    "from langchain.prompts.chat import ChatPromptTemplate, HumanMessagePromptTemplate\n",
    "from langchain.chains import LLMChain\n",
    "\n",
    "llm = ChatOpenAI(\n",
    "        model=\"gpt-4\",\n",
    "        temperature=0\n",
    "    )"
   ]
  },
  {
   "cell_type": "code",
   "execution_count": null,
   "metadata": {},
   "outputs": [],
   "source": [
    "human_message_prompt = HumanMessagePromptTemplate.from_template(\n",
    "    \"\"\"\n",
    "    당신은 채용 공고 추천 전문가입니다.\n",
    "    다음은 관련 자료입니다:\n",
    "    {docs}\n",
    "\n",
    "    그리고 사용자 정보는 다음과 같습니다:\n",
    "    - 지원 직무: 데이터 분석, AI 모델링, 감성 분석, 영화 추천 시스템 개발\n",
    "    - 관심 산업/도메인: IT, 빅데이터\n",
    "    - 기술/스킬: Python, SQL, R, Scikit-learn, TensorFlow, PyTorch, Pandas, NumPy, Jupyter, Git, Docker, Tableau, MySQL, MongoDB, Hadoop(HDFS), Spark, Google Colab, AWS EC2 & S3, KoNLPy, Word2Vec, Streamlit\n",
    "    - 학력 및 경력: 고려대학교 컴퓨터학과 졸업, 신입\n",
    "    - 희망 지역: 서울특별시 강남구\n",
    "\n",
    "    ### 출력 형식 예시\n",
    "    1. **직무명**: AI 분석가 (신입)\n",
    "    - **산업 분야**: IT 서비스 / 빅데이터 분석\n",
    "    - **필요 기술**: Python, TensorFlow, SQL, Pandas\n",
    "    - **공고 링크**: https://www.saramin.co.kr/zf_user/jobs/relay/view?rec_idx=50139999\n",
    "    - **추천 사유**: 사용자의 AI 모델링 및 분석 역량과 유사한 프로젝트 경험이 있고, 기술 스택이 직무 요건과 높은 일치율을 보입니다. 서울 강남 지역에 위치해 있어 위치 조건도 부합합니다.\n",
    "\n",
    "    이 정보를 바탕으로 사용자 정보에 가장 적합한 채용 공고 5개를 추천해주세요.\n",
    "    출력 형식과 동일한 형식으로 출력해주세요.\n",
    "    \n",
    "    \"\"\"\n",
    "\n",
    "    )\n",
    "\n",
    "chat_prompt_template = ChatPromptTemplate.from_messages([human_message_prompt])"
   ]
  },
  {
   "cell_type": "code",
   "execution_count": 101,
   "metadata": {},
   "outputs": [],
   "source": [
    "# 체인 생성\n",
    "chain = LLMChain(llm=llm, prompt=chat_prompt_template)\n",
    "\n",
    "# invoke 호출\n",
    "response = chain.invoke({\n",
    "    \"docs\": docs\n",
    "})\n",
    "result = response['text']"
   ]
  },
  {
   "cell_type": "code",
   "execution_count": 103,
   "metadata": {},
   "outputs": [
    {
     "data": {
      "text/plain": [
       "['1. **직무명**: [코스닥기업] 업무시스템 개발자 채용',\n",
       " '    - **산업 분야**: IT 서비스 / 응용 소프트웨어 개발 및 공급업',\n",
       " '    - **필요 기술**: DB, SQL, JavaScript',\n",
       " '    - **공고 링크**: https://www.saramin.co.kr/zf_user/jobs/relay/view?rec_idx=50139999',\n",
       " '    - **추천 사유**: 사용자의 데이터 분석 및 AI 모델링 역량과 유사한 프로젝트 경험이 있고, 기술 스택이 직무 요건과 높은 일치율을 보입니다. 서울 강남 지역에 위치해 있어 위치 조건도 부합합니다.',\n",
       " '',\n",
       " '2. **직무명**: 경동도시가스 데이터 분석 및 관련 사업개발 전문가 채용',\n",
       " '    - **산업 분야**: IT 서비스 / 데이터 분석',\n",
       " '    - **필요 기술**: Python, R, JAVA, DB 분석',\n",
       " '    - **공고 링크**: https://www.saramin.co.kr/zf_user/jobs/relay/view?rec_idx=50197577',\n",
       " '    - **추천 사유**: 사용자의 데이터 분석 및 AI 모델링 역량과 유사한 프로젝트 경험이 있고, 기술 스택이 직무 요건과 높은 일치율을 보입니다.',\n",
       " '',\n",
       " '3. **직무명**: 음성인식 AI 혁신을 이끌 [서비스기획 팀장] 모집',\n",
       " '    - **산업 분야**: IT 서비스 / AI 솔루션',\n",
       " '    - **필요 기술**: 서비스 기획 경험',\n",
       " '    - **공고 링크**: https://www.saramin.co.kr/zf_user/jobs/relay/view?rec_idx=50282974',\n",
       " '    - **추천 사유**: 사용자의 AI 모델링 역량과 유사한 프로젝트 경험이 있고, 서울 강남 지역에 위치해 있어 위치 조건도 부합합니다.',\n",
       " '',\n",
       " '4. **직무명**: 음성인식 AI 혁신을 이끌 [서비스기획 담당자] 모집',\n",
       " '    - **산업 분야**: IT 서비스 / AI 솔루션',\n",
       " '    - **필요 기술**: 서비스 기획 경험',\n",
       " '    - **공고 링크**: https://www.saramin.co.kr/zf_user/jobs/relay/view?rec_idx=50283013',\n",
       " '    - **추천 사유**: 사용자의 AI 모델링 역량과 유사한 프로젝트 경험이 있고, 서울 강남 지역에 위치해 있어 위치 조건도 부합합니다.',\n",
       " '',\n",
       " '5. **직무명**: [미래아이엔씨] 마케팅 개발기획자 모집(경력직)',\n",
       " '    - **산업 분야**: IT 서비스 / 마케팅',\n",
       " '    - **필요 기술**: 기술지원, 백엔드/서버개발, 웹개발, 머신러닝, 마케팅기획',\n",
       " '    - **공고 링크**: https://www.saramin.co.kr/zf_user/jobs/relay/view?rec_idx=50235054',\n",
       " '    - **추천 사유**: 사용자의 데이터 분석 및 AI 모델링 역량과 유사한 프로젝트 경험이 있고, 기술 스택이 직무 요건과 높은 일치율을 보입니다.']"
      ]
     },
     "execution_count": 103,
     "metadata": {},
     "output_type": "execute_result"
    }
   ],
   "source": [
    "result.split('\\n')"
   ]
  }
 ],
 "metadata": {
  "kernelspec": {
   "display_name": "apps",
   "language": "python",
   "name": "python3"
  },
  "language_info": {
   "codemirror_mode": {
    "name": "ipython",
    "version": 3
   },
   "file_extension": ".py",
   "mimetype": "text/x-python",
   "name": "python",
   "nbconvert_exporter": "python",
   "pygments_lexer": "ipython3",
   "version": "3.10.0"
  }
 },
 "nbformat": 4,
 "nbformat_minor": 2
}
